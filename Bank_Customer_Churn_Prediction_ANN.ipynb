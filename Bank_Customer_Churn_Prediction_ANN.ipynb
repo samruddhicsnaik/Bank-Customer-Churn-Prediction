{
 "cells": [
  {
   "cell_type": "markdown",
   "metadata": {
    "id": "i28cR0cgxdry"
   },
   "source": [
    "# Bank Customer Churn Prediction\n",
    "### Artificial Neural Networks"
   ]
  },
  {
   "cell_type": "markdown",
   "metadata": {
    "id": "7iCLw-1uxwVh"
   },
   "source": [
    "## Importing libraries"
   ]
  },
  {
   "cell_type": "code",
   "execution_count": 1,
   "metadata": {
    "id": "qQpS3ZdMyOWh"
   },
   "outputs": [],
   "source": [
    "import numpy as np\n",
    "import pandas as pd\n",
    "import tensorflow as tf\n",
    "import sys"
   ]
  },
  {
   "cell_type": "code",
   "execution_count": 2,
   "metadata": {
    "colab": {
     "base_uri": "https://localhost:8080/",
     "height": 35
    },
    "id": "S7Huz4BzyuFR",
    "outputId": "6811acaa-e111-4d8f-86b7-825a3cc4f9c2"
   },
   "outputs": [
    {
     "data": {
      "text/plain": [
       "'2.6.0'"
      ]
     },
     "execution_count": 2,
     "metadata": {},
     "output_type": "execute_result"
    }
   ],
   "source": [
    "tf.__version__"
   ]
  },
  {
   "cell_type": "markdown",
   "metadata": {
    "id": "lTw6_lykyx_o"
   },
   "source": [
    "# 1) Data Preprocessing"
   ]
  },
  {
   "cell_type": "markdown",
   "metadata": {
    "id": "KGWRE2moy8vA"
   },
   "source": [
    "## Importing dataset"
   ]
  },
  {
   "cell_type": "code",
   "execution_count": 3,
   "metadata": {
    "colab": {
     "base_uri": "https://localhost:8080/",
     "height": 417
    },
    "id": "zxbbPnMyzSOy",
    "outputId": "b5ffc1f7-bf5c-4e8f-b7aa-9bd725f31d3b"
   },
   "outputs": [
    {
     "data": {
      "text/html": [
       "<div>\n",
       "<style scoped>\n",
       "    .dataframe tbody tr th:only-of-type {\n",
       "        vertical-align: middle;\n",
       "    }\n",
       "\n",
       "    .dataframe tbody tr th {\n",
       "        vertical-align: top;\n",
       "    }\n",
       "\n",
       "    .dataframe thead th {\n",
       "        text-align: right;\n",
       "    }\n",
       "</style>\n",
       "<table border=\"1\" class=\"dataframe\">\n",
       "  <thead>\n",
       "    <tr style=\"text-align: right;\">\n",
       "      <th></th>\n",
       "      <th>RowNumber</th>\n",
       "      <th>CustomerId</th>\n",
       "      <th>Surname</th>\n",
       "      <th>CreditScore</th>\n",
       "      <th>Geography</th>\n",
       "      <th>Gender</th>\n",
       "      <th>Age</th>\n",
       "      <th>Tenure</th>\n",
       "      <th>Balance</th>\n",
       "      <th>NumOfProducts</th>\n",
       "      <th>HasCrCard</th>\n",
       "      <th>IsActiveMember</th>\n",
       "      <th>EstimatedSalary</th>\n",
       "      <th>Exited</th>\n",
       "    </tr>\n",
       "  </thead>\n",
       "  <tbody>\n",
       "    <tr>\n",
       "      <th>0</th>\n",
       "      <td>1</td>\n",
       "      <td>15634602</td>\n",
       "      <td>Hargrave</td>\n",
       "      <td>619</td>\n",
       "      <td>France</td>\n",
       "      <td>Female</td>\n",
       "      <td>42</td>\n",
       "      <td>2</td>\n",
       "      <td>0.00</td>\n",
       "      <td>1</td>\n",
       "      <td>1</td>\n",
       "      <td>1</td>\n",
       "      <td>101348.88</td>\n",
       "      <td>1</td>\n",
       "    </tr>\n",
       "    <tr>\n",
       "      <th>1</th>\n",
       "      <td>2</td>\n",
       "      <td>15647311</td>\n",
       "      <td>Hill</td>\n",
       "      <td>608</td>\n",
       "      <td>Spain</td>\n",
       "      <td>Female</td>\n",
       "      <td>41</td>\n",
       "      <td>1</td>\n",
       "      <td>83807.86</td>\n",
       "      <td>1</td>\n",
       "      <td>0</td>\n",
       "      <td>1</td>\n",
       "      <td>112542.58</td>\n",
       "      <td>0</td>\n",
       "    </tr>\n",
       "    <tr>\n",
       "      <th>2</th>\n",
       "      <td>3</td>\n",
       "      <td>15619304</td>\n",
       "      <td>Onio</td>\n",
       "      <td>502</td>\n",
       "      <td>France</td>\n",
       "      <td>Female</td>\n",
       "      <td>42</td>\n",
       "      <td>8</td>\n",
       "      <td>159660.80</td>\n",
       "      <td>3</td>\n",
       "      <td>1</td>\n",
       "      <td>0</td>\n",
       "      <td>113931.57</td>\n",
       "      <td>1</td>\n",
       "    </tr>\n",
       "    <tr>\n",
       "      <th>3</th>\n",
       "      <td>4</td>\n",
       "      <td>15701354</td>\n",
       "      <td>Boni</td>\n",
       "      <td>699</td>\n",
       "      <td>France</td>\n",
       "      <td>Female</td>\n",
       "      <td>39</td>\n",
       "      <td>1</td>\n",
       "      <td>0.00</td>\n",
       "      <td>2</td>\n",
       "      <td>0</td>\n",
       "      <td>0</td>\n",
       "      <td>93826.63</td>\n",
       "      <td>0</td>\n",
       "    </tr>\n",
       "    <tr>\n",
       "      <th>4</th>\n",
       "      <td>5</td>\n",
       "      <td>15737888</td>\n",
       "      <td>Mitchell</td>\n",
       "      <td>850</td>\n",
       "      <td>Spain</td>\n",
       "      <td>Female</td>\n",
       "      <td>43</td>\n",
       "      <td>2</td>\n",
       "      <td>125510.82</td>\n",
       "      <td>1</td>\n",
       "      <td>1</td>\n",
       "      <td>1</td>\n",
       "      <td>79084.10</td>\n",
       "      <td>0</td>\n",
       "    </tr>\n",
       "  </tbody>\n",
       "</table>\n",
       "</div>"
      ],
      "text/plain": [
       "   RowNumber  CustomerId   Surname  CreditScore Geography  Gender  Age  \\\n",
       "0          1    15634602  Hargrave          619    France  Female   42   \n",
       "1          2    15647311      Hill          608     Spain  Female   41   \n",
       "2          3    15619304      Onio          502    France  Female   42   \n",
       "3          4    15701354      Boni          699    France  Female   39   \n",
       "4          5    15737888  Mitchell          850     Spain  Female   43   \n",
       "\n",
       "   Tenure    Balance  NumOfProducts  HasCrCard  IsActiveMember  \\\n",
       "0       2       0.00              1          1               1   \n",
       "1       1   83807.86              1          0               1   \n",
       "2       8  159660.80              3          1               0   \n",
       "3       1       0.00              2          0               0   \n",
       "4       2  125510.82              1          1               1   \n",
       "\n",
       "   EstimatedSalary  Exited  \n",
       "0        101348.88       1  \n",
       "1        112542.58       0  \n",
       "2        113931.57       1  \n",
       "3         93826.63       0  \n",
       "4         79084.10       0  "
      ]
     },
     "execution_count": 3,
     "metadata": {},
     "output_type": "execute_result"
    }
   ],
   "source": [
    "dataset = pd.read_csv('Churn_Modelling.csv')\n",
    "dataset.head()"
   ]
  },
  {
   "cell_type": "code",
   "execution_count": 4,
   "metadata": {
    "id": "yOUzCbd2lIoY"
   },
   "outputs": [],
   "source": [
    "X = dataset.iloc[:, 3 : -1].values\n",
    "y = dataset.iloc[:, -1].values"
   ]
  },
  {
   "cell_type": "code",
   "execution_count": 5,
   "metadata": {
    "id": "kVRckfB-soke"
   },
   "outputs": [],
   "source": [
    "np.set_printoptions(threshold=sys.maxsize)"
   ]
  },
  {
   "cell_type": "code",
   "execution_count": 7,
   "metadata": {
    "colab": {
     "base_uri": "https://localhost:8080/"
    },
    "id": "uOEMRu6g1Mmo",
    "outputId": "1ac53ab3-2dde-4067-a17a-02d46d6303d3"
   },
   "outputs": [
    {
     "name": "stdout",
     "output_type": "stream",
     "text": [
      "[[619 'France' 'Female' 42 2 0.0 1 1 1 101348.88]\n",
      " [608 'Spain' 'Female' 41 1 83807.86 1 0 1 112542.58]\n",
      " [502 'France' 'Female' 42 8 159660.8 3 1 0 113931.57]\n",
      " [699 'France' 'Female' 39 1 0.0 2 0 0 93826.63]\n",
      " [850 'Spain' 'Female' 43 2 125510.82 1 1 1 79084.1]\n",
      " [645 'Spain' 'Male' 44 8 113755.78 2 1 0 149756.71]\n",
      " [822 'France' 'Male' 50 7 0.0 2 1 1 10062.8]\n",
      " [376 'Germany' 'Female' 29 4 115046.74 4 1 0 119346.88]\n",
      " [501 'France' 'Male' 44 4 142051.07 2 0 1 74940.5]\n",
      " [684 'France' 'Male' 27 2 134603.88 1 1 1 71725.73]]\n"
     ]
    }
   ],
   "source": [
    "print(X[:10])"
   ]
  },
  {
   "cell_type": "code",
   "execution_count": 8,
   "metadata": {
    "colab": {
     "base_uri": "https://localhost:8080/"
    },
    "id": "2af7DmjN0fLi",
    "outputId": "7a51135d-50d2-4ea6-914d-b16ba8556873"
   },
   "outputs": [
    {
     "name": "stdout",
     "output_type": "stream",
     "text": [
      "[1 0 1 0 0 1 0 1 0 0]\n"
     ]
    }
   ],
   "source": [
    "print(y[:10])"
   ]
  },
  {
   "cell_type": "markdown",
   "metadata": {
    "id": "pVM66_YA0spB"
   },
   "source": [
    "## Encoding categorical data"
   ]
  },
  {
   "cell_type": "markdown",
   "metadata": {
    "id": "7Av7zwvu0xIY"
   },
   "source": [
    "Label Encoding the \"Gender\" column"
   ]
  },
  {
   "cell_type": "code",
   "execution_count": 9,
   "metadata": {
    "id": "DjltdK4L1Q6p"
   },
   "outputs": [],
   "source": [
    "from sklearn.preprocessing import LabelEncoder\n",
    "le = LabelEncoder()\n",
    "X[:, 2] = le.fit_transform(X[:, 2])"
   ]
  },
  {
   "cell_type": "code",
   "execution_count": 10,
   "metadata": {
    "colab": {
     "base_uri": "https://localhost:8080/"
    },
    "id": "k2P5k61i-HZe",
    "outputId": "bc42825b-ebb0-414c-cd92-b524bc4775fe"
   },
   "outputs": [
    {
     "name": "stdout",
     "output_type": "stream",
     "text": [
      "[[619 'France' 0 42 2 0.0 1 1 1 101348.88]\n",
      " [608 'Spain' 0 41 1 83807.86 1 0 1 112542.58]\n",
      " [502 'France' 0 42 8 159660.8 3 1 0 113931.57]\n",
      " [699 'France' 0 39 1 0.0 2 0 0 93826.63]\n",
      " [850 'Spain' 0 43 2 125510.82 1 1 1 79084.1]\n",
      " [645 'Spain' 1 44 8 113755.78 2 1 0 149756.71]\n",
      " [822 'France' 1 50 7 0.0 2 1 1 10062.8]\n",
      " [376 'Germany' 0 29 4 115046.74 4 1 0 119346.88]\n",
      " [501 'France' 1 44 4 142051.07 2 0 1 74940.5]\n",
      " [684 'France' 1 27 2 134603.88 1 1 1 71725.73]]\n"
     ]
    }
   ],
   "source": [
    "print(X[:10])"
   ]
  },
  {
   "cell_type": "markdown",
   "metadata": {
    "id": "fH2mSbML81oI"
   },
   "source": [
    "One Hot Encoding the \"Geography\" column"
   ]
  },
  {
   "cell_type": "code",
   "execution_count": 11,
   "metadata": {
    "id": "-QCvFHRQ89wW"
   },
   "outputs": [],
   "source": [
    "from sklearn.compose import ColumnTransformer\n",
    "from sklearn.preprocessing import OneHotEncoder\n",
    "ct = ColumnTransformer(transformers = [('encoder', OneHotEncoder(), [1])], remainder = 'passthrough')\n",
    "X = np.array(ct.fit_transform(X))"
   ]
  },
  {
   "cell_type": "code",
   "execution_count": 12,
   "metadata": {
    "colab": {
     "base_uri": "https://localhost:8080/"
    },
    "id": "zEGR5aOq9vbI",
    "outputId": "679a5b07-d590-4c84-d12c-e8c01c6b9903"
   },
   "outputs": [
    {
     "name": "stdout",
     "output_type": "stream",
     "text": [
      "[[1.0 0.0 0.0 619 0 42 2 0.0 1 1 1 101348.88]\n",
      " [0.0 0.0 1.0 608 0 41 1 83807.86 1 0 1 112542.58]\n",
      " [1.0 0.0 0.0 502 0 42 8 159660.8 3 1 0 113931.57]\n",
      " [1.0 0.0 0.0 699 0 39 1 0.0 2 0 0 93826.63]\n",
      " [0.0 0.0 1.0 850 0 43 2 125510.82 1 1 1 79084.1]\n",
      " [0.0 0.0 1.0 645 1 44 8 113755.78 2 1 0 149756.71]\n",
      " [1.0 0.0 0.0 822 1 50 7 0.0 2 1 1 10062.8]\n",
      " [0.0 1.0 0.0 376 0 29 4 115046.74 4 1 0 119346.88]\n",
      " [1.0 0.0 0.0 501 1 44 4 142051.07 2 0 1 74940.5]\n",
      " [1.0 0.0 0.0 684 1 27 2 134603.88 1 1 1 71725.73]]\n"
     ]
    }
   ],
   "source": [
    "print(X[:10])"
   ]
  },
  {
   "cell_type": "markdown",
   "metadata": {
    "id": "0v6U6FEp-x2n"
   },
   "source": [
    "### Splitting the dataset into Training set and Test set"
   ]
  },
  {
   "cell_type": "code",
   "execution_count": 13,
   "metadata": {
    "id": "d8iV1Tk5_JYe"
   },
   "outputs": [],
   "source": [
    "from sklearn.model_selection import train_test_split\n",
    "X_train, X_test, y_train, y_test = train_test_split(X, y, test_size = 0.2, random_state = 0)"
   ]
  },
  {
   "cell_type": "markdown",
   "metadata": {
    "id": "-9BtRmgU-8kY"
   },
   "source": [
    "## Feature Scaling"
   ]
  },
  {
   "cell_type": "code",
   "execution_count": 14,
   "metadata": {
    "id": "LYD2yh7n_Dbu"
   },
   "outputs": [],
   "source": [
    "from sklearn.preprocessing import StandardScaler\n",
    "sc = StandardScaler()\n",
    "X_train = sc.fit_transform(X_train)\n",
    "X_test = sc.transform(X_test)"
   ]
  },
  {
   "cell_type": "markdown",
   "metadata": {
    "id": "U2e5lTGvBEHY"
   },
   "source": [
    "# 2) Building the ANN"
   ]
  },
  {
   "cell_type": "markdown",
   "metadata": {
    "id": "JPIpwjrKBNJA"
   },
   "source": [
    "## Initializing the ANN"
   ]
  },
  {
   "cell_type": "code",
   "execution_count": 15,
   "metadata": {
    "id": "K2tUVEj_LGBY"
   },
   "outputs": [],
   "source": [
    "ann = tf.keras.models.Sequential()"
   ]
  },
  {
   "cell_type": "markdown",
   "metadata": {
    "id": "zmO7M8SsBTMX"
   },
   "source": [
    "## Adding the input layer and first hidden layer"
   ]
  },
  {
   "cell_type": "code",
   "execution_count": 16,
   "metadata": {
    "id": "zF83EMUYMjHt"
   },
   "outputs": [],
   "source": [
    "ann.add(tf.keras.layers.Dense(units=6, activation='relu'))"
   ]
  },
  {
   "cell_type": "markdown",
   "metadata": {
    "id": "lFTijwPCBfRO"
   },
   "source": [
    "## Adding the second hidden layer"
   ]
  },
  {
   "cell_type": "code",
   "execution_count": 17,
   "metadata": {
    "id": "2N2R7MMLN203"
   },
   "outputs": [],
   "source": [
    "ann.add(tf.keras.layers.Dense(units=6, activation='relu'))"
   ]
  },
  {
   "cell_type": "markdown",
   "metadata": {
    "id": "HaJTk8epBn3N"
   },
   "source": [
    "## Adding the output layer"
   ]
  },
  {
   "cell_type": "code",
   "execution_count": 18,
   "metadata": {
    "id": "UTv8-ETnOUa8"
   },
   "outputs": [],
   "source": [
    "ann.add(tf.keras.layers.Dense(units=1, activation='sigmoid'))"
   ]
  },
  {
   "cell_type": "markdown",
   "metadata": {
    "id": "hxEpV7mkPGa4"
   },
   "source": [
    "# 3) Training the ANN"
   ]
  },
  {
   "cell_type": "markdown",
   "metadata": {
    "id": "Am1qiGoMPMCd"
   },
   "source": [
    "## Compiling the ANN"
   ]
  },
  {
   "cell_type": "code",
   "execution_count": 19,
   "metadata": {
    "id": "xWG0ehZ7PmQk"
   },
   "outputs": [],
   "source": [
    "ann.compile(optimizer='adam', loss='binary_crossentropy', metrics=['accuracy'])"
   ]
  },
  {
   "cell_type": "markdown",
   "metadata": {
    "id": "cGoS8iroPQhk"
   },
   "source": [
    "## Training the ANN on the Training set"
   ]
  },
  {
   "cell_type": "code",
   "execution_count": 20,
   "metadata": {
    "colab": {
     "base_uri": "https://localhost:8080/"
    },
    "id": "m3vi5FC1Q3Ks",
    "outputId": "8660cf2b-a0be-46b7-949e-5750137599b6"
   },
   "outputs": [
    {
     "name": "stdout",
     "output_type": "stream",
     "text": [
      "Epoch 1/100\n",
      "250/250 [==============================] - 0s 533us/step - loss: 0.5792 - accuracy: 0.7354\n",
      "Epoch 2/100\n",
      "250/250 [==============================] - 0s 521us/step - loss: 0.4697 - accuracy: 0.7995\n",
      "Epoch 3/100\n",
      "250/250 [==============================] - 0s 493us/step - loss: 0.4390 - accuracy: 0.8036\n",
      "Epoch 4/100\n",
      "250/250 [==============================] - 0s 505us/step - loss: 0.4227 - accuracy: 0.8098\n",
      "Epoch 5/100\n",
      "250/250 [==============================] - 0s 517us/step - loss: 0.4095 - accuracy: 0.8145\n",
      "Epoch 6/100\n",
      "250/250 [==============================] - 0s 493us/step - loss: 0.3980 - accuracy: 0.8225\n",
      "Epoch 7/100\n",
      "250/250 [==============================] - 0s 497us/step - loss: 0.3882 - accuracy: 0.8284\n",
      "Epoch 8/100\n",
      "250/250 [==============================] - 0s 489us/step - loss: 0.3805 - accuracy: 0.8355\n",
      "Epoch 9/100\n",
      "250/250 [==============================] - 0s 493us/step - loss: 0.3746 - accuracy: 0.8401\n",
      "Epoch 10/100\n",
      "250/250 [==============================] - 0s 509us/step - loss: 0.3700 - accuracy: 0.8454\n",
      "Epoch 11/100\n",
      "250/250 [==============================] - 0s 517us/step - loss: 0.3664 - accuracy: 0.8466\n",
      "Epoch 12/100\n",
      "250/250 [==============================] - 0s 513us/step - loss: 0.3634 - accuracy: 0.8462\n",
      "Epoch 13/100\n",
      "250/250 [==============================] - 0s 497us/step - loss: 0.3609 - accuracy: 0.8490\n",
      "Epoch 14/100\n",
      "250/250 [==============================] - 0s 489us/step - loss: 0.3584 - accuracy: 0.8510\n",
      "Epoch 15/100\n",
      "250/250 [==============================] - 0s 505us/step - loss: 0.3565 - accuracy: 0.8515\n",
      "Epoch 16/100\n",
      "250/250 [==============================] - 0s 493us/step - loss: 0.3550 - accuracy: 0.8503\n",
      "Epoch 17/100\n",
      "250/250 [==============================] - 0s 505us/step - loss: 0.3536 - accuracy: 0.8521\n",
      "Epoch 18/100\n",
      "250/250 [==============================] - 0s 501us/step - loss: 0.3525 - accuracy: 0.8540\n",
      "Epoch 19/100\n",
      "250/250 [==============================] - 0s 497us/step - loss: 0.3515 - accuracy: 0.8556\n",
      "Epoch 20/100\n",
      "250/250 [==============================] - 0s 529us/step - loss: 0.3504 - accuracy: 0.8549\n",
      "Epoch 21/100\n",
      "250/250 [==============================] - 0s 505us/step - loss: 0.3497 - accuracy: 0.8544\n",
      "Epoch 22/100\n",
      "250/250 [==============================] - 0s 493us/step - loss: 0.3490 - accuracy: 0.8562\n",
      "Epoch 23/100\n",
      "250/250 [==============================] - 0s 505us/step - loss: 0.3485 - accuracy: 0.8565\n",
      "Epoch 24/100\n",
      "250/250 [==============================] - 0s 517us/step - loss: 0.3478 - accuracy: 0.8584\n",
      "Epoch 25/100\n",
      "250/250 [==============================] - 0s 505us/step - loss: 0.3476 - accuracy: 0.8585\n",
      "Epoch 26/100\n",
      "250/250 [==============================] - 0s 497us/step - loss: 0.3473 - accuracy: 0.8584\n",
      "Epoch 27/100\n",
      "250/250 [==============================] - 0s 529us/step - loss: 0.3466 - accuracy: 0.8585\n",
      "Epoch 28/100\n",
      "250/250 [==============================] - 0s 497us/step - loss: 0.3460 - accuracy: 0.8593\n",
      "Epoch 29/100\n",
      "250/250 [==============================] - 0s 493us/step - loss: 0.3461 - accuracy: 0.8584\n",
      "Epoch 30/100\n",
      "250/250 [==============================] - 0s 493us/step - loss: 0.3458 - accuracy: 0.8577\n",
      "Epoch 31/100\n",
      "250/250 [==============================] - 0s 497us/step - loss: 0.3454 - accuracy: 0.8591\n",
      "Epoch 32/100\n",
      "250/250 [==============================] - 0s 493us/step - loss: 0.3452 - accuracy: 0.8591\n",
      "Epoch 33/100\n",
      "250/250 [==============================] - 0s 493us/step - loss: 0.3447 - accuracy: 0.8597\n",
      "Epoch 34/100\n",
      "250/250 [==============================] - 0s 501us/step - loss: 0.3444 - accuracy: 0.8585\n",
      "Epoch 35/100\n",
      "250/250 [==============================] - 0s 501us/step - loss: 0.3444 - accuracy: 0.8606\n",
      "Epoch 36/100\n",
      "250/250 [==============================] - 0s 513us/step - loss: 0.3438 - accuracy: 0.8609\n",
      "Epoch 37/100\n",
      "250/250 [==============================] - 0s 497us/step - loss: 0.3443 - accuracy: 0.8600\n",
      "Epoch 38/100\n",
      "250/250 [==============================] - 0s 501us/step - loss: 0.3440 - accuracy: 0.8593\n",
      "Epoch 39/100\n",
      "250/250 [==============================] - 0s 493us/step - loss: 0.3437 - accuracy: 0.8605\n",
      "Epoch 40/100\n",
      "250/250 [==============================] - 0s 497us/step - loss: 0.3437 - accuracy: 0.8608\n",
      "Epoch 41/100\n",
      "250/250 [==============================] - 0s 493us/step - loss: 0.3436 - accuracy: 0.8611\n",
      "Epoch 42/100\n",
      "250/250 [==============================] - 0s 497us/step - loss: 0.3432 - accuracy: 0.8608\n",
      "Epoch 43/100\n",
      "250/250 [==============================] - 0s 501us/step - loss: 0.3433 - accuracy: 0.8611\n",
      "Epoch 44/100\n",
      "250/250 [==============================] - 0s 509us/step - loss: 0.3431 - accuracy: 0.8581\n",
      "Epoch 45/100\n",
      "250/250 [==============================] - 0s 541us/step - loss: 0.3429 - accuracy: 0.8594\n",
      "Epoch 46/100\n",
      "250/250 [==============================] - 0s 509us/step - loss: 0.3432 - accuracy: 0.8608\n",
      "Epoch 47/100\n",
      "250/250 [==============================] - 0s 501us/step - loss: 0.3430 - accuracy: 0.8593\n",
      "Epoch 48/100\n",
      "250/250 [==============================] - 0s 501us/step - loss: 0.3429 - accuracy: 0.8595\n",
      "Epoch 49/100\n",
      "250/250 [==============================] - 0s 493us/step - loss: 0.3427 - accuracy: 0.8600\n",
      "Epoch 50/100\n",
      "250/250 [==============================] - 0s 513us/step - loss: 0.3424 - accuracy: 0.8604\n",
      "Epoch 51/100\n",
      "250/250 [==============================] - 0s 497us/step - loss: 0.3430 - accuracy: 0.8595\n",
      "Epoch 52/100\n",
      "250/250 [==============================] - 0s 505us/step - loss: 0.3423 - accuracy: 0.8615\n",
      "Epoch 53/100\n",
      "250/250 [==============================] - 0s 501us/step - loss: 0.3424 - accuracy: 0.8615\n",
      "Epoch 54/100\n",
      "250/250 [==============================] - 0s 529us/step - loss: 0.3424 - accuracy: 0.8610\n",
      "Epoch 55/100\n",
      "250/250 [==============================] - 0s 489us/step - loss: 0.3421 - accuracy: 0.8601\n",
      "Epoch 56/100\n",
      "250/250 [==============================] - 0s 489us/step - loss: 0.3416 - accuracy: 0.8619\n",
      "Epoch 57/100\n",
      "250/250 [==============================] - 0s 489us/step - loss: 0.3424 - accuracy: 0.8619\n",
      "Epoch 58/100\n",
      "250/250 [==============================] - 0s 501us/step - loss: 0.3419 - accuracy: 0.8608\n",
      "Epoch 59/100\n",
      "250/250 [==============================] - 0s 513us/step - loss: 0.3417 - accuracy: 0.8614\n",
      "Epoch 60/100\n",
      "250/250 [==============================] - 0s 509us/step - loss: 0.3417 - accuracy: 0.8614\n",
      "Epoch 61/100\n",
      "250/250 [==============================] - 0s 493us/step - loss: 0.3418 - accuracy: 0.8630\n",
      "Epoch 62/100\n",
      "250/250 [==============================] - 0s 497us/step - loss: 0.3411 - accuracy: 0.8620\n",
      "Epoch 63/100\n",
      "250/250 [==============================] - 0s 497us/step - loss: 0.3409 - accuracy: 0.8615\n",
      "Epoch 64/100\n",
      "250/250 [==============================] - 0s 489us/step - loss: 0.3411 - accuracy: 0.8616\n",
      "Epoch 65/100\n",
      "250/250 [==============================] - 0s 493us/step - loss: 0.3412 - accuracy: 0.8620\n",
      "Epoch 66/100\n",
      "250/250 [==============================] - 0s 501us/step - loss: 0.3412 - accuracy: 0.8622\n",
      "Epoch 67/100\n",
      "250/250 [==============================] - 0s 513us/step - loss: 0.3411 - accuracy: 0.8609\n",
      "Epoch 68/100\n",
      "250/250 [==============================] - 0s 529us/step - loss: 0.3408 - accuracy: 0.8624\n",
      "Epoch 69/100\n",
      "250/250 [==============================] - 0s 497us/step - loss: 0.3408 - accuracy: 0.8620\n",
      "Epoch 70/100\n",
      "250/250 [==============================] - 0s 513us/step - loss: 0.3406 - accuracy: 0.8615\n",
      "Epoch 71/100\n",
      "250/250 [==============================] - 0s 525us/step - loss: 0.3408 - accuracy: 0.8630\n",
      "Epoch 72/100\n",
      "250/250 [==============================] - 0s 505us/step - loss: 0.3406 - accuracy: 0.8610\n",
      "Epoch 73/100\n",
      "250/250 [==============================] - 0s 497us/step - loss: 0.3406 - accuracy: 0.8614\n",
      "Epoch 74/100\n",
      "250/250 [==============================] - 0s 501us/step - loss: 0.3402 - accuracy: 0.8633\n",
      "Epoch 75/100\n",
      "250/250 [==============================] - 0s 501us/step - loss: 0.3403 - accuracy: 0.8622\n",
      "Epoch 76/100\n",
      "250/250 [==============================] - 0s 505us/step - loss: 0.3402 - accuracy: 0.8630\n",
      "Epoch 77/100\n",
      "250/250 [==============================] - 0s 501us/step - loss: 0.3404 - accuracy: 0.8622\n",
      "Epoch 78/100\n",
      "250/250 [==============================] - 0s 505us/step - loss: 0.3402 - accuracy: 0.8630\n",
      "Epoch 79/100\n"
     ]
    },
    {
     "name": "stdout",
     "output_type": "stream",
     "text": [
      "250/250 [==============================] - 0s 493us/step - loss: 0.3397 - accuracy: 0.8616\n",
      "Epoch 80/100\n",
      "250/250 [==============================] - 0s 493us/step - loss: 0.3398 - accuracy: 0.8625\n",
      "Epoch 81/100\n",
      "250/250 [==============================] - 0s 505us/step - loss: 0.3397 - accuracy: 0.8629\n",
      "Epoch 82/100\n",
      "250/250 [==============================] - 0s 521us/step - loss: 0.3396 - accuracy: 0.8629\n",
      "Epoch 83/100\n",
      "250/250 [==============================] - 0s 497us/step - loss: 0.3399 - accuracy: 0.8612\n",
      "Epoch 84/100\n",
      "250/250 [==============================] - 0s 549us/step - loss: 0.3390 - accuracy: 0.8622\n",
      "Epoch 85/100\n",
      "250/250 [==============================] - 0s 509us/step - loss: 0.3394 - accuracy: 0.8630\n",
      "Epoch 86/100\n",
      "250/250 [==============================] - 0s 513us/step - loss: 0.3391 - accuracy: 0.8630\n",
      "Epoch 87/100\n",
      "250/250 [==============================] - 0s 517us/step - loss: 0.3392 - accuracy: 0.8635\n",
      "Epoch 88/100\n",
      "250/250 [==============================] - 0s 505us/step - loss: 0.3390 - accuracy: 0.8630\n",
      "Epoch 89/100\n",
      "250/250 [==============================] - 0s 517us/step - loss: 0.3391 - accuracy: 0.8622\n",
      "Epoch 90/100\n",
      "250/250 [==============================] - 0s 497us/step - loss: 0.3386 - accuracy: 0.8627\n",
      "Epoch 91/100\n",
      "250/250 [==============================] - 0s 513us/step - loss: 0.3386 - accuracy: 0.8630\n",
      "Epoch 92/100\n",
      "250/250 [==============================] - 0s 533us/step - loss: 0.3382 - accuracy: 0.8627\n",
      "Epoch 93/100\n",
      "250/250 [==============================] - 0s 489us/step - loss: 0.3385 - accuracy: 0.8633\n",
      "Epoch 94/100\n",
      "250/250 [==============================] - 0s 505us/step - loss: 0.3383 - accuracy: 0.8627\n",
      "Epoch 95/100\n",
      "250/250 [==============================] - 0s 509us/step - loss: 0.3380 - accuracy: 0.8640\n",
      "Epoch 96/100\n",
      "250/250 [==============================] - 0s 521us/step - loss: 0.3377 - accuracy: 0.8631\n",
      "Epoch 97/100\n",
      "250/250 [==============================] - 0s 517us/step - loss: 0.3383 - accuracy: 0.8629\n",
      "Epoch 98/100\n",
      "250/250 [==============================] - 0s 497us/step - loss: 0.3382 - accuracy: 0.8631\n",
      "Epoch 99/100\n",
      "250/250 [==============================] - 0s 505us/step - loss: 0.3377 - accuracy: 0.8631\n",
      "Epoch 100/100\n",
      "250/250 [==============================] - 0s 529us/step - loss: 0.3374 - accuracy: 0.8641\n"
     ]
    },
    {
     "data": {
      "text/plain": [
       "<keras.callbacks.History at 0x23b0cde7160>"
      ]
     },
     "execution_count": 20,
     "metadata": {},
     "output_type": "execute_result"
    }
   ],
   "source": [
    "ann.fit(X_train, y_train, batch_size=32, epochs=100)"
   ]
  },
  {
   "cell_type": "markdown",
   "metadata": {
    "id": "i_h90jhrcAIU"
   },
   "source": [
    "# 4) Making the predictions and evaluating the model"
   ]
  },
  {
   "cell_type": "markdown",
   "metadata": {
    "id": "B5yZA_RpcMaS"
   },
   "source": [
    "## Predicting the result of a single observation"
   ]
  },
  {
   "cell_type": "markdown",
   "metadata": {
    "id": "Ilise9iNm2K-"
   },
   "source": [
    "Use our ANN model to predict if the customer with the following informations will leave the bank:\n",
    "\n",
    "Geography: France\n",
    "\n",
    "Credit Score: 600\n",
    "\n",
    "Gender: Male\n",
    "\n",
    "Age: 40 years old\n",
    "\n",
    "Tenure: 3 years\n",
    "\n",
    "Balance: $ 60000\n",
    "\n",
    "Number of Products: 2\n",
    "\n",
    "Does this customer have a credit card? Yes\n",
    "\n",
    "Is this customer an Active Member: Yes\n",
    "\n",
    "Estimated Salary: $ 50000\n",
    "\n",
    "So, Will the customer leave the bank?"
   ]
  },
  {
   "cell_type": "code",
   "execution_count": 21,
   "metadata": {
    "colab": {
     "base_uri": "https://localhost:8080/"
    },
    "id": "VRDt-o4qcZrA",
    "outputId": "b26153b9-5786-4f34-9f31-5643d9534053"
   },
   "outputs": [
    {
     "name": "stdout",
     "output_type": "stream",
     "text": [
      "[[False]]\n"
     ]
    }
   ],
   "source": [
    "print(ann.predict(sc.transform([[1, 0, 0, 600, 1, 40, 3, 60000, 2, 1, 1, 50000]])) > 0.5)"
   ]
  },
  {
   "cell_type": "markdown",
   "metadata": {
    "id": "tiaIVpuforRY"
   },
   "source": [
    "## Predicting the test set results"
   ]
  },
  {
   "cell_type": "code",
   "execution_count": 24,
   "metadata": {
    "colab": {
     "base_uri": "https://localhost:8080/"
    },
    "id": "UGyd141io4Z8",
    "outputId": "d599f3df-6159-48fb-be42-cf65483a19cb"
   },
   "outputs": [
    {
     "name": "stdout",
     "output_type": "stream",
     "text": [
      "[[0 0]\n",
      " [0 1]\n",
      " [0 0]\n",
      " [0 0]\n",
      " [0 0]\n",
      " [1 1]\n",
      " [0 0]\n",
      " [0 0]\n",
      " [0 1]\n",
      " [1 1]\n",
      " [0 0]\n",
      " [0 0]\n",
      " [0 0]\n",
      " [0 0]\n",
      " [1 1]\n",
      " [0 1]\n",
      " [0 0]\n",
      " [0 0]\n",
      " [0 0]\n",
      " [0 0]]\n"
     ]
    }
   ],
   "source": [
    "y_pred = ann.predict(X_test)\n",
    "y_pred = (y_pred > 0.5)\n",
    "print(np.concatenate((y_pred.reshape(len(y_pred), 1), y_test.reshape(len(y_test), 1)), 1)[:20])"
   ]
  },
  {
   "cell_type": "markdown",
   "metadata": {
    "id": "Rk5Okh1LrAim"
   },
   "source": [
    "## Confusion Matrix"
   ]
  },
  {
   "cell_type": "code",
   "execution_count": 25,
   "metadata": {
    "colab": {
     "base_uri": "https://localhost:8080/"
    },
    "id": "2r4HAWrOrInp",
    "outputId": "d80e03c7-32cf-4026-cac6-27398a78a0b6"
   },
   "outputs": [
    {
     "name": "stdout",
     "output_type": "stream",
     "text": [
      "[[1517   78]\n",
      " [ 204  201]]\n"
     ]
    },
    {
     "data": {
      "text/plain": [
       "0.859"
      ]
     },
     "execution_count": 25,
     "metadata": {},
     "output_type": "execute_result"
    }
   ],
   "source": [
    "from sklearn.metrics import confusion_matrix, accuracy_score\n",
    "cm = confusion_matrix(y_test, y_pred)\n",
    "print(cm)\n",
    "accuracy_score(y_test, y_pred)"
   ]
  }
 ],
 "metadata": {
  "colab": {
   "collapsed_sections": [],
   "name": "Bank Customer Churn Prediction - ANN.ipynb",
   "provenance": []
  },
  "kernelspec": {
   "display_name": "Python 3",
   "language": "python",
   "name": "python3"
  },
  "language_info": {
   "codemirror_mode": {
    "name": "ipython",
    "version": 3
   },
   "file_extension": ".py",
   "mimetype": "text/x-python",
   "name": "python",
   "nbconvert_exporter": "python",
   "pygments_lexer": "ipython3",
   "version": "3.9.2"
  }
 },
 "nbformat": 4,
 "nbformat_minor": 1
}
